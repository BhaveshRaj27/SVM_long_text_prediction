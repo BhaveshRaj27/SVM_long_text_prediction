{
 "cells": [
  {
   "cell_type": "code",
   "execution_count": 11,
   "metadata": {},
   "outputs": [],
   "source": [
    "from utils import download_pdf_wget, download_pdf_requests\n",
    "from utils import extract_text_with_langchain, extract_target_from_filename, generate_backup_filename,extract_text_with_backup\n",
    "from utils import preprocess_text, truncate_text\n",
    "import matplotlib.pyplot as plt\n",
    "import pandas as pd\n",
    "import os\n",
    "from sklearn.model_selection import train_test_split\n",
    "from sklearn.feature_extraction.text import TfidfVectorizer\n",
    "from sklearn.linear_model import LogisticRegression\n",
    "from sklearn.metrics import classification_report\n",
    "from sklearn.svm import SVC\n",
    "import joblib"
   ]
  },
  {
   "cell_type": "code",
   "execution_count": 19,
   "metadata": {},
   "outputs": [
    {
     "name": "stdout",
     "output_type": "stream",
     "text": [
      "Processing document_101_fuses.pdf...\n",
      "Processing document_102_fuses.pdf...\n",
      "Processing document_103_fuses.pdf...\n",
      "Processing document_104_fuses.pdf...\n",
      "Processing document_105_fuses.pdf...\n",
      "Processing document_106_fuses.pdf...\n",
      "Processing document_107_fuses.pdf...\n",
      "Processing document_108_fuses.pdf...\n",
      "Processing document_109_fuses.pdf...\n",
      "Processing document_10_lighting.pdf...\n"
     ]
    },
    {
     "name": "stderr",
     "output_type": "stream",
     "text": [
      "invalid pdf header: b'\\r\\n\\r\\n<'\n",
      "EOF marker not found\n"
     ]
    },
    {
     "name": "stdout",
     "output_type": "stream",
     "text": [
      "Failed to extract text from downloaded_test_pdfs\\document_10_lighting.pdf: Stream has ended unexpectedly\n",
      "Trying backup folder for document_10.pdf...\n",
      "Processing document_110_fuses.pdf...\n",
      "Processing document_111_fuses.pdf...\n",
      "Processing document_112_fuses.pdf...\n",
      "Processing document_113_fuses.pdf...\n",
      "Processing document_114_fuses.pdf...\n",
      "Processing document_115_fuses.pdf...\n",
      "Processing document_116_fuses.pdf...\n",
      "Processing document_117_fuses.pdf...\n",
      "Processing document_118_fuses.pdf...\n",
      "Processing document_119_fuses.pdf...\n",
      "Processing document_11_lighting.pdf...\n"
     ]
    },
    {
     "name": "stderr",
     "output_type": "stream",
     "text": [
      "invalid pdf header: b'\\r\\n\\r\\n<'\n",
      "EOF marker not found\n"
     ]
    },
    {
     "name": "stdout",
     "output_type": "stream",
     "text": [
      "Failed to extract text from downloaded_test_pdfs\\document_11_lighting.pdf: Stream has ended unexpectedly\n",
      "Trying backup folder for document_11.pdf...\n",
      "Processing document_120_fuses.pdf...\n",
      "Processing document_121_fuses.pdf...\n",
      "Processing document_122_fuses.pdf...\n",
      "Processing document_123_fuses.pdf...\n",
      "Processing document_124_fuses.pdf...\n",
      "Processing document_125_fuses.pdf...\n",
      "Processing document_126_fuses.pdf...\n"
     ]
    },
    {
     "name": "stderr",
     "output_type": "stream",
     "text": [
      "Overwriting cache for 0 1324\n"
     ]
    },
    {
     "name": "stdout",
     "output_type": "stream",
     "text": [
      "Processing document_127_fuses.pdf...\n",
      "Processing document_128_fuses.pdf...\n",
      "Processing document_129_fuses.pdf...\n",
      "Processing document_12_lighting.pdf...\n"
     ]
    },
    {
     "name": "stderr",
     "output_type": "stream",
     "text": [
      "invalid pdf header: b'\\r\\n\\r\\n<'\n",
      "EOF marker not found\n"
     ]
    },
    {
     "name": "stdout",
     "output_type": "stream",
     "text": [
      "Failed to extract text from downloaded_test_pdfs\\document_12_lighting.pdf: Stream has ended unexpectedly\n",
      "Trying backup folder for document_12.pdf...\n",
      "Processing document_130_fuses.pdf...\n",
      "Processing document_131_fuses.pdf...\n",
      "Processing document_133_fuses.pdf...\n",
      "Processing document_134_fuses.pdf...\n",
      "Processing document_135_fuses.pdf...\n",
      "Processing document_136_fuses.pdf...\n",
      "Processing document_137_fuses.pdf...\n",
      "Processing document_138_fuses.pdf...\n"
     ]
    },
    {
     "name": "stderr",
     "output_type": "stream",
     "text": [
      "Overwriting cache for 0 1324\n"
     ]
    },
    {
     "name": "stdout",
     "output_type": "stream",
     "text": [
      "Processing document_139_fuses.pdf...\n",
      "Processing document_13_lighting.pdf...\n",
      "Processing document_140_fuses.pdf...\n",
      "Processing document_141_fuses.pdf...\n",
      "Processing document_142_fuses.pdf...\n",
      "Processing document_143_fuses.pdf...\n",
      "Processing document_144_fuses.pdf...\n",
      "Processing document_145_fuses.pdf...\n",
      "Processing document_146_fuses.pdf...\n",
      "Processing document_147_fuses.pdf...\n",
      "Processing document_148_fuses.pdf...\n",
      "Processing document_149_fuses.pdf...\n",
      "Processing document_14_lighting.pdf...\n",
      "Processing document_150_fuses.pdf...\n",
      "Processing document_151_others.pdf...\n",
      "Processing document_153_others.pdf...\n",
      "Processing document_154_others.pdf...\n",
      "Processing document_155_others.pdf...\n",
      "Processing document_158_others.pdf...\n",
      "Processing document_159_others.pdf...\n",
      "Processing document_15_lighting.pdf...\n",
      "Processing document_160_others.pdf...\n"
     ]
    },
    {
     "name": "stderr",
     "output_type": "stream",
     "text": [
      "invalid pdf header: b'<!DOC'\n",
      "EOF marker not found\n"
     ]
    },
    {
     "name": "stdout",
     "output_type": "stream",
     "text": [
      "Processing document_162_others.pdf...\n",
      "Failed to extract text from downloaded_test_pdfs\\document_162_others.pdf: Stream has ended unexpectedly\n",
      "Trying backup folder for document_162.pdf...\n",
      "Processing document_163_others.pdf...\n"
     ]
    },
    {
     "name": "stderr",
     "output_type": "stream",
     "text": [
      "invalid pdf header: b'<!DOC'\n",
      "EOF marker not found\n"
     ]
    },
    {
     "name": "stdout",
     "output_type": "stream",
     "text": [
      "Processing document_164_others.pdf...\n",
      "Failed to extract text from downloaded_test_pdfs\\document_164_others.pdf: Stream has ended unexpectedly\n",
      "Trying backup folder for document_164.pdf...\n",
      "Failed to extract text from ./downloaded_pdfs\\document_164.pdf: File path ./downloaded_pdfs\\document_164.pdf is not a valid file or url\n",
      "Extraction failed for document_164_others.pdf in both folders.\n",
      "Processing document_165_others.pdf...\n",
      "Processing document_167_others.pdf...\n",
      "Processing document_168_others.pdf...\n",
      "Processing document_169_others.pdf...\n",
      "Processing document_16_lighting.pdf...\n",
      "Processing document_171_others.pdf...\n",
      "Processing document_172_others.pdf...\n",
      "Processing document_174_others.pdf...\n",
      "Processing document_175_others.pdf...\n",
      "Processing document_177_others.pdf...\n",
      "Processing document_178_others.pdf...\n",
      "Processing document_17_lighting.pdf...\n",
      "Processing document_181_others.pdf...\n"
     ]
    },
    {
     "name": "stderr",
     "output_type": "stream",
     "text": [
      "invalid pdf header: b'<!DOC'\n",
      "EOF marker not found\n"
     ]
    },
    {
     "name": "stdout",
     "output_type": "stream",
     "text": [
      "Processing document_184_others.pdf...\n",
      "Processing document_185_others.pdf...\n",
      "Failed to extract text from downloaded_test_pdfs\\document_185_others.pdf: Stream has ended unexpectedly\n",
      "Trying backup folder for document_185.pdf...\n",
      "Processing document_186_others.pdf...\n"
     ]
    },
    {
     "name": "stderr",
     "output_type": "stream",
     "text": [
      "invalid pdf header: b'<!DOC'\n",
      "EOF marker not found\n"
     ]
    },
    {
     "name": "stdout",
     "output_type": "stream",
     "text": [
      "Processing document_188_others.pdf...\n",
      "Failed to extract text from downloaded_test_pdfs\\document_188_others.pdf: Stream has ended unexpectedly\n",
      "Trying backup folder for document_188.pdf...\n",
      "Failed to extract text from ./downloaded_pdfs\\document_188.pdf: File path ./downloaded_pdfs\\document_188.pdf is not a valid file or url\n",
      "Extraction failed for document_188_others.pdf in both folders.\n",
      "Processing document_18_lighting.pdf...\n",
      "Processing document_190_others.pdf...\n",
      "Processing document_191_others.pdf...\n",
      "Processing document_192_others.pdf...\n",
      "Processing document_193_others.pdf...\n",
      "Processing document_194_others.pdf...\n",
      "Processing document_195_others.pdf...\n",
      "Processing document_196_others.pdf...\n",
      "Processing document_197_others.pdf...\n",
      "Processing document_198_others.pdf...\n",
      "Processing document_199_others.pdf...\n",
      "Processing document_1_lighting.pdf...\n",
      "Processing document_200_others.pdf...\n",
      "Processing document_201_others.pdf...\n",
      "Processing document_202_others.pdf...\n",
      "Processing document_203_others.pdf...\n",
      "Processing document_204_others.pdf...\n",
      "Processing document_205_others.pdf...\n",
      "Processing document_206_others.pdf...\n",
      "Processing document_207_others.pdf...\n",
      "Processing document_208_others.pdf...\n",
      "Processing document_209_others.pdf...\n",
      "Processing document_20_lighting.pdf...\n",
      "Processing document_210_others.pdf...\n",
      "Processing document_211_others.pdf...\n",
      "Processing document_212_others.pdf...\n",
      "Processing document_213_others.pdf...\n",
      "Processing document_214_others.pdf...\n",
      "Processing document_215_others.pdf...\n",
      "Processing document_216_others.pdf...\n",
      "Processing document_217_others.pdf...\n",
      "Processing document_218_others.pdf...\n",
      "Processing document_219_others.pdf...\n",
      "Processing document_21_lighting.pdf...\n",
      "Processing document_220_others.pdf...\n",
      "Processing document_221_others.pdf...\n",
      "Processing document_222_others.pdf...\n",
      "Processing document_223_others.pdf...\n",
      "Processing document_224_others.pdf...\n",
      "Processing document_225_others.pdf...\n",
      "Processing document_227_others.pdf...\n",
      "Processing document_228_others.pdf...\n",
      "Processing document_229_others.pdf...\n",
      "Processing document_22_lighting.pdf...\n"
     ]
    },
    {
     "name": "stderr",
     "output_type": "stream",
     "text": [
      "invalid pdf header: b'<!DOC'\n",
      "EOF marker not found\n",
      "invalid pdf header: b'<!DOC'\n",
      "EOF marker not found\n"
     ]
    },
    {
     "name": "stdout",
     "output_type": "stream",
     "text": [
      "Processing document_232_others.pdf...\n",
      "Failed to extract text from downloaded_test_pdfs\\document_232_others.pdf: Stream has ended unexpectedly\n",
      "Trying backup folder for document_232.pdf...\n",
      "Failed to extract text from ./downloaded_pdfs\\document_232.pdf: File path ./downloaded_pdfs\\document_232.pdf is not a valid file or url\n",
      "Extraction failed for document_232_others.pdf in both folders.\n",
      "Processing document_237_others.pdf...\n",
      "Failed to extract text from downloaded_test_pdfs\\document_237_others.pdf: Stream has ended unexpectedly\n",
      "Trying backup folder for document_237.pdf...\n",
      "Failed to extract text from ./downloaded_pdfs\\document_237.pdf: File path ./downloaded_pdfs\\document_237.pdf is not a valid file or url\n",
      "Extraction failed for document_237_others.pdf in both folders.\n",
      "Processing document_238_others.pdf...\n",
      "Processing document_239_others.pdf...\n",
      "Processing document_23_lighting.pdf...\n",
      "Processing document_240_others.pdf...\n",
      "Processing document_241_others.pdf...\n",
      "Processing document_243_others.pdf...\n",
      "Processing document_246_others.pdf...\n",
      "Processing document_248_others.pdf...\n",
      "Processing document_24_lighting.pdf...\n",
      "Processing document_254_others.pdf...\n",
      "Processing document_257_others.pdf...\n",
      "Processing document_258_others.pdf...\n",
      "Processing document_25_lighting.pdf...\n",
      "Processing document_261_others.pdf...\n"
     ]
    },
    {
     "name": "stderr",
     "output_type": "stream",
     "text": [
      "invalid pdf header: b'<!DOC'\n",
      "EOF marker not found\n"
     ]
    },
    {
     "name": "stdout",
     "output_type": "stream",
     "text": [
      "Processing document_262_others.pdf...\n",
      "Failed to extract text from downloaded_test_pdfs\\document_262_others.pdf: Stream has ended unexpectedly\n",
      "Trying backup folder for document_262.pdf...\n",
      "Failed to extract text from ./downloaded_pdfs\\document_262.pdf: File path ./downloaded_pdfs\\document_262.pdf is not a valid file or url\n",
      "Extraction failed for document_262_others.pdf in both folders.\n",
      "Processing document_263_others.pdf...\n",
      "Processing document_264_others.pdf...\n",
      "Processing document_265_others.pdf...\n",
      "Processing document_266_others.pdf...\n"
     ]
    },
    {
     "name": "stderr",
     "output_type": "stream",
     "text": [
      "invalid pdf header: b'<!DOC'\n",
      "EOF marker not found\n"
     ]
    },
    {
     "name": "stdout",
     "output_type": "stream",
     "text": [
      "Processing document_267_others.pdf...\n",
      "Failed to extract text from downloaded_test_pdfs\\document_267_others.pdf: Stream has ended unexpectedly\n",
      "Trying backup folder for document_267.pdf...\n",
      "Failed to extract text from ./downloaded_pdfs\\document_267.pdf: File path ./downloaded_pdfs\\document_267.pdf is not a valid file or url\n",
      "Extraction failed for document_267_others.pdf in both folders.\n",
      "Processing document_26_lighting.pdf...\n",
      "Processing document_271_others.pdf...\n",
      "Processing document_272_others.pdf...\n",
      "Processing document_273_others.pdf...\n",
      "Processing document_275_others.pdf...\n",
      "Processing document_276_cable.pdf...\n",
      "Processing document_277_cable.pdf...\n",
      "Processing document_278_cable.pdf...\n",
      "Processing document_279_cable.pdf...\n"
     ]
    },
    {
     "name": "stderr",
     "output_type": "stream",
     "text": [
      "invalid pdf header: b'\\r\\n\\r\\n\\r'\n",
      "EOF marker not found\n"
     ]
    },
    {
     "name": "stdout",
     "output_type": "stream",
     "text": [
      "Failed to extract text from downloaded_test_pdfs\\document_279_cable.pdf: Stream has ended unexpectedly\n",
      "Trying backup folder for document_279.pdf...\n",
      "Processing document_27_lighting.pdf...\n",
      "Processing document_280_cable.pdf...\n",
      "Processing document_281_cable.pdf...\n",
      "Processing document_282_cable.pdf...\n",
      "Processing document_283_cable.pdf...\n",
      "Processing document_284_cable.pdf...\n",
      "Processing document_285_cable.pdf...\n",
      "Processing document_287_cable.pdf...\n"
     ]
    },
    {
     "name": "stderr",
     "output_type": "stream",
     "text": [
      "invalid pdf header: b'\\r\\n\\r\\n\\r'\n",
      "EOF marker not found\n"
     ]
    },
    {
     "name": "stdout",
     "output_type": "stream",
     "text": [
      "Failed to extract text from downloaded_test_pdfs\\document_287_cable.pdf: Stream has ended unexpectedly\n",
      "Trying backup folder for document_287.pdf...\n",
      "Failed to extract text from ./downloaded_pdfs\\document_287.pdf: File path ./downloaded_pdfs\\document_287.pdf is not a valid file or url\n",
      "Extraction failed for document_287_cable.pdf in both folders.\n",
      "Processing document_288_cable.pdf...\n",
      "Processing document_28_lighting.pdf...\n",
      "Processing document_290_cable.pdf...\n",
      "Processing document_291_cable.pdf...\n",
      "Processing document_292_cable.pdf...\n",
      "Processing document_293_cable.pdf...\n",
      "Processing document_294_cable.pdf...\n",
      "Processing document_295_cable.pdf...\n",
      "Processing document_296_cable.pdf...\n"
     ]
    },
    {
     "name": "stderr",
     "output_type": "stream",
     "text": [
      "invalid pdf header: b'\\r\\n\\r\\n\\r'\n",
      "EOF marker not found\n"
     ]
    },
    {
     "name": "stdout",
     "output_type": "stream",
     "text": [
      "Processing document_297_cable.pdf...\n",
      "Processing document_298_cable.pdf...\n",
      "Failed to extract text from downloaded_test_pdfs\\document_298_cable.pdf: Stream has ended unexpectedly\n",
      "Trying backup folder for document_298.pdf...\n",
      "Failed to extract text from ./downloaded_pdfs\\document_298.pdf: File path ./downloaded_pdfs\\document_298.pdf is not a valid file or url\n",
      "Extraction failed for document_298_cable.pdf in both folders.\n",
      "Processing document_29_lighting.pdf...\n",
      "Processing document_2_lighting.pdf...\n",
      "Processing document_300_cable.pdf...\n",
      "Processing document_301_cable.pdf...\n"
     ]
    },
    {
     "name": "stderr",
     "output_type": "stream",
     "text": [
      "invalid pdf header: b'<!DOC'\n",
      "EOF marker not found\n",
      "invalid pdf header: b'\\r\\n\\r\\n\\r'\n",
      "EOF marker not found\n"
     ]
    },
    {
     "name": "stdout",
     "output_type": "stream",
     "text": [
      "Failed to extract text from downloaded_test_pdfs\\document_301_cable.pdf: Stream has ended unexpectedly\n",
      "Trying backup folder for document_301.pdf...\n",
      "Failed to extract text from ./downloaded_pdfs\\document_301.pdf: File path ./downloaded_pdfs\\document_301.pdf is not a valid file or url\n",
      "Extraction failed for document_301_cable.pdf in both folders.\n",
      "Processing document_302_cable.pdf...\n",
      "Failed to extract text from downloaded_test_pdfs\\document_302_cable.pdf: Stream has ended unexpectedly\n",
      "Trying backup folder for document_302.pdf...\n",
      "Failed to extract text from ./downloaded_pdfs\\document_302.pdf: File path ./downloaded_pdfs\\document_302.pdf is not a valid file or url\n",
      "Extraction failed for document_302_cable.pdf in both folders.\n",
      "Processing document_303_cable.pdf...\n",
      "Processing document_304_cable.pdf...\n",
      "Processing document_305_cable.pdf...\n",
      "Processing document_306_cable.pdf...\n",
      "Processing document_307_cable.pdf...\n",
      "Processing document_309_cable.pdf...\n",
      "Processing document_30_lighting.pdf...\n",
      "Processing document_310_cable.pdf...\n",
      "Processing document_311_cable.pdf...\n",
      "Processing document_312_cable.pdf...\n",
      "Processing document_313_cable.pdf...\n",
      "Processing document_315_cable.pdf...\n",
      "Processing document_316_cable.pdf...\n",
      "Processing document_318_cable.pdf...\n",
      "Processing document_319_cable.pdf...\n",
      "Processing document_31_lighting.pdf...\n",
      "Processing document_321_cable.pdf...\n",
      "Processing document_324_cable.pdf...\n",
      "Processing document_325_cable.pdf...\n",
      "Processing document_326_cable.pdf...\n",
      "Processing document_327_cable.pdf...\n",
      "Processing document_32_lighting.pdf...\n",
      "Processing document_330_cable.pdf...\n",
      "Processing document_331_cable.pdf...\n",
      "Processing document_332_cable.pdf...\n",
      "Processing document_333_cable.pdf...\n",
      "Processing document_334_cable.pdf...\n",
      "Processing document_335_cable.pdf...\n",
      "Processing document_336_cable.pdf...\n",
      "Processing document_337_cable.pdf...\n",
      "Processing document_338_cable.pdf...\n",
      "Processing document_33_lighting.pdf...\n"
     ]
    },
    {
     "name": "stderr",
     "output_type": "stream",
     "text": [
      "invalid pdf header: b'\\r\\n\\r\\n\\r'\n",
      "EOF marker not found\n"
     ]
    },
    {
     "name": "stdout",
     "output_type": "stream",
     "text": [
      "Processing document_340_cable.pdf...\n",
      "Processing document_341_cable.pdf...\n",
      "Processing document_343_cable.pdf...\n",
      "Failed to extract text from downloaded_test_pdfs\\document_343_cable.pdf: Stream has ended unexpectedly\n",
      "Trying backup folder for document_343.pdf...\n",
      "Failed to extract text from ./downloaded_pdfs\\document_343.pdf: File path ./downloaded_pdfs\\document_343.pdf is not a valid file or url\n",
      "Extraction failed for document_343_cable.pdf in both folders.\n",
      "Processing document_344_cable.pdf...\n",
      "Processing document_345_cable.pdf...\n",
      "Processing document_347_cable.pdf...\n",
      "Processing document_348_cable.pdf...\n",
      "Processing document_349_cable.pdf...\n",
      "Processing document_34_lighting.pdf...\n"
     ]
    },
    {
     "name": "stderr",
     "output_type": "stream",
     "text": [
      "invalid pdf header: b'\\r\\n\\r\\n\\r'\n",
      "EOF marker not found\n"
     ]
    },
    {
     "name": "stdout",
     "output_type": "stream",
     "text": [
      "Processing document_350_cable.pdf...\n",
      "Failed to extract text from downloaded_test_pdfs\\document_350_cable.pdf: Stream has ended unexpectedly\n",
      "Trying backup folder for document_350.pdf...\n",
      "Failed to extract text from ./downloaded_pdfs\\document_350.pdf: File path ./downloaded_pdfs\\document_350.pdf is not a valid file or url\n",
      "Extraction failed for document_350_cable.pdf in both folders.\n",
      "Processing document_352_cable.pdf...\n",
      "Processing document_353_cable.pdf...\n"
     ]
    },
    {
     "name": "stderr",
     "output_type": "stream",
     "text": [
      "invalid pdf header: b'\\r\\n\\r\\n\\r'\n",
      "EOF marker not found\n"
     ]
    },
    {
     "name": "stdout",
     "output_type": "stream",
     "text": [
      "Processing document_354_cable.pdf...\n",
      "Processing document_356_cable.pdf...\n",
      "Failed to extract text from downloaded_test_pdfs\\document_356_cable.pdf: Stream has ended unexpectedly\n",
      "Trying backup folder for document_356.pdf...\n",
      "Failed to extract text from ./downloaded_pdfs\\document_356.pdf: File path ./downloaded_pdfs\\document_356.pdf is not a valid file or url\n",
      "Extraction failed for document_356_cable.pdf in both folders.\n",
      "Processing document_358_cable.pdf...\n",
      "Processing document_359_cable.pdf...\n",
      "Processing document_35_lighting.pdf...\n",
      "Processing document_360_cable.pdf...\n",
      "Processing document_361_cable.pdf...\n",
      "Processing document_362_cable.pdf...\n",
      "Processing document_363_cable.pdf...\n",
      "Processing document_364_cable.pdf...\n",
      "Processing document_366_cable.pdf...\n",
      "Processing document_368_cable.pdf...\n",
      "Processing document_369_cable.pdf...\n",
      "Processing document_372_cable.pdf...\n"
     ]
    },
    {
     "name": "stderr",
     "output_type": "stream",
     "text": [
      "invalid pdf header: b'\\r\\n\\r\\n\\r'\n",
      "EOF marker not found\n"
     ]
    },
    {
     "name": "stdout",
     "output_type": "stream",
     "text": [
      "Processing document_374_cable.pdf...\n",
      "Failed to extract text from downloaded_test_pdfs\\document_374_cable.pdf: Stream has ended unexpectedly\n",
      "Trying backup folder for document_374.pdf...\n",
      "Failed to extract text from ./downloaded_pdfs\\document_374.pdf: File path ./downloaded_pdfs\\document_374.pdf is not a valid file or url\n",
      "Extraction failed for document_374_cable.pdf in both folders.\n",
      "Processing document_375_cable.pdf...\n",
      "Processing document_378_cable.pdf...\n",
      "Processing document_380_cable.pdf...\n"
     ]
    },
    {
     "name": "stderr",
     "output_type": "stream",
     "text": [
      "invalid pdf header: b'\\r\\n\\r\\n\\r'\n",
      "EOF marker not found\n"
     ]
    },
    {
     "name": "stdout",
     "output_type": "stream",
     "text": [
      "Processing document_381_cable.pdf...\n",
      "Processing document_382_cable.pdf...\n",
      "Failed to extract text from downloaded_test_pdfs\\document_382_cable.pdf: Stream has ended unexpectedly\n",
      "Trying backup folder for document_382.pdf...\n",
      "Failed to extract text from ./downloaded_pdfs\\document_382.pdf: File path ./downloaded_pdfs\\document_382.pdf is not a valid file or url\n",
      "Extraction failed for document_382_cable.pdf in both folders.\n",
      "Processing document_383_cable.pdf...\n",
      "Processing document_385_cable.pdf...\n",
      "Processing document_389_cable.pdf...\n",
      "Processing document_38_lighting.pdf...\n"
     ]
    },
    {
     "name": "stderr",
     "output_type": "stream",
     "text": [
      "invalid pdf header: b'\\r\\n\\r\\n\\r'\n",
      "EOF marker not found\n"
     ]
    },
    {
     "name": "stdout",
     "output_type": "stream",
     "text": [
      "Processing document_390_cable.pdf...\n",
      "Failed to extract text from downloaded_test_pdfs\\document_390_cable.pdf: Stream has ended unexpectedly\n",
      "Trying backup folder for document_390.pdf...\n",
      "Processing document_391_cable.pdf...\n",
      "Processing document_392_cable.pdf...\n"
     ]
    },
    {
     "name": "stderr",
     "output_type": "stream",
     "text": [
      "invalid pdf header: b'<!DOC'\n",
      "EOF marker not found\n"
     ]
    },
    {
     "name": "stdout",
     "output_type": "stream",
     "text": [
      "Failed to extract text from downloaded_test_pdfs\\document_392_cable.pdf: Stream has ended unexpectedly\n",
      "Trying backup folder for document_392.pdf...\n"
     ]
    },
    {
     "name": "stderr",
     "output_type": "stream",
     "text": [
      "invalid pdf header: b'\\r\\n\\r\\n\\r'\n"
     ]
    },
    {
     "name": "stdout",
     "output_type": "stream",
     "text": [
      "Processing document_393_cable.pdf...\n",
      "Processing document_394_cable.pdf...\n",
      "Processing document_395_cable.pdf...\n",
      "Processing document_396_cable.pdf...\n",
      "Processing document_397_cable.pdf...\n"
     ]
    },
    {
     "name": "stderr",
     "output_type": "stream",
     "text": [
      "EOF marker not found\n"
     ]
    },
    {
     "name": "stdout",
     "output_type": "stream",
     "text": [
      "Failed to extract text from downloaded_test_pdfs\\document_397_cable.pdf: Stream has ended unexpectedly\n",
      "Trying backup folder for document_397.pdf...\n",
      "Failed to extract text from ./downloaded_pdfs\\document_397.pdf: File path ./downloaded_pdfs\\document_397.pdf is not a valid file or url\n",
      "Extraction failed for document_397_cable.pdf in both folders.\n",
      "Processing document_398_cable.pdf...\n",
      "Processing document_399_cable.pdf...\n",
      "Processing document_39_lighting.pdf...\n",
      "Processing document_3_lighting.pdf...\n",
      "Processing document_400_cable.pdf...\n",
      "Processing document_40_lighting.pdf...\n",
      "Processing document_41_lighting.pdf...\n",
      "Processing document_42_lighting.pdf...\n",
      "Processing document_43_lighting.pdf...\n",
      "Processing document_44_lighting.pdf...\n",
      "Processing document_46_lighting.pdf...\n"
     ]
    },
    {
     "name": "stderr",
     "output_type": "stream",
     "text": [
      "invalid pdf header: b'<!DOC'\n",
      "EOF marker not found\n"
     ]
    },
    {
     "name": "stdout",
     "output_type": "stream",
     "text": [
      "Failed to extract text from downloaded_test_pdfs\\document_46_lighting.pdf: Stream has ended unexpectedly\n",
      "Trying backup folder for document_46.pdf...\n",
      "Processing document_47_lighting.pdf...\n",
      "Processing document_48_lighting.pdf...\n",
      "Processing document_49_lighting.pdf...\n",
      "Processing document_4_lighting.pdf...\n",
      "Processing document_50_lighting.pdf...\n",
      "Processing document_51_lighting.pdf...\n",
      "Processing document_52_lighting.pdf...\n",
      "Processing document_53_lighting.pdf...\n",
      "Processing document_54_lighting.pdf...\n",
      "Processing document_5_lighting.pdf...\n",
      "Processing document_62_lighting.pdf...\n",
      "Processing document_63_lighting.pdf...\n",
      "Processing document_64_lighting.pdf...\n",
      "Processing document_65_lighting.pdf...\n",
      "Processing document_66_lighting.pdf...\n",
      "Processing document_67_lighting.pdf...\n",
      "Processing document_68_lighting.pdf...\n",
      "Processing document_69_lighting.pdf...\n"
     ]
    },
    {
     "name": "stderr",
     "output_type": "stream",
     "text": [
      "invalid pdf header: b'\\r\\n\\r\\n<'\n",
      "EOF marker not found\n"
     ]
    },
    {
     "name": "stdout",
     "output_type": "stream",
     "text": [
      "Processing document_6_lighting.pdf...\n",
      "Failed to extract text from downloaded_test_pdfs\\document_6_lighting.pdf: Stream has ended unexpectedly\n",
      "Trying backup folder for document_6.pdf...\n",
      "Failed to extract text from ./downloaded_pdfs\\document_6.pdf: File path ./downloaded_pdfs\\document_6.pdf is not a valid file or url\n",
      "Extraction failed for document_6_lighting.pdf in both folders.\n",
      "Processing document_70_lighting.pdf...\n",
      "Processing document_71_lighting.pdf...\n",
      "Processing document_72_lighting.pdf...\n",
      "Processing document_73_lighting.pdf...\n",
      "Processing document_74_lighting.pdf...\n",
      "Processing document_75_lighting.pdf...\n",
      "Processing document_76_lighting.pdf...\n",
      "Processing document_77_lighting.pdf...\n",
      "Processing document_79_lighting.pdf...\n"
     ]
    },
    {
     "name": "stderr",
     "output_type": "stream",
     "text": [
      "invalid pdf header: b'\\r\\n\\r\\n<'\n",
      "EOF marker not found\n"
     ]
    },
    {
     "name": "stdout",
     "output_type": "stream",
     "text": [
      "Processing document_7_lighting.pdf...\n",
      "Failed to extract text from downloaded_test_pdfs\\document_7_lighting.pdf: Stream has ended unexpectedly\n",
      "Trying backup folder for document_7.pdf...\n",
      "Processing document_80_lighting.pdf...\n",
      "Processing document_81_lighting.pdf...\n",
      "Processing document_82_lighting.pdf...\n",
      "Processing document_83_lighting.pdf...\n",
      "Processing document_84_lighting.pdf...\n",
      "Processing document_85_lighting.pdf...\n",
      "Processing document_86_lighting.pdf...\n",
      "Processing document_87_lighting.pdf...\n",
      "Processing document_89_lighting.pdf...\n"
     ]
    },
    {
     "name": "stderr",
     "output_type": "stream",
     "text": [
      "invalid pdf header: b'\\r\\n\\r\\n<'\n",
      "EOF marker not found\n"
     ]
    },
    {
     "name": "stdout",
     "output_type": "stream",
     "text": [
      "Processing document_8_lighting.pdf...\n",
      "Failed to extract text from downloaded_test_pdfs\\document_8_lighting.pdf: Stream has ended unexpectedly\n",
      "Trying backup folder for document_8.pdf...\n",
      "Processing document_90_lighting.pdf...\n",
      "Processing document_91_lighting.pdf...\n",
      "Processing document_92_lighting.pdf...\n",
      "Processing document_93_lighting.pdf...\n",
      "Processing document_94_lighting.pdf...\n",
      "Processing document_95_lighting.pdf...\n",
      "Processing document_96_lighting.pdf...\n",
      "Processing document_97_lighting.pdf...\n",
      "Processing document_98_lighting.pdf...\n",
      "Processing document_9_lighting.pdf...\n"
     ]
    },
    {
     "name": "stderr",
     "output_type": "stream",
     "text": [
      "invalid pdf header: b'\\r\\n\\r\\n<'\n",
      "EOF marker not found\n"
     ]
    },
    {
     "name": "stdout",
     "output_type": "stream",
     "text": [
      "Failed to extract text from downloaded_test_pdfs\\document_9_lighting.pdf: Stream has ended unexpectedly\n",
      "Trying backup folder for document_9.pdf...\n"
     ]
    }
   ],
   "source": [
    "train_folder = 'downloaded_test_pdfs'\n",
    "backup_folder = './downloaded_pdfs'\n",
    "\n",
    "\n",
    "# Initialize list to store data\n",
    "data = []\n",
    "\n",
    "# Iterate over all files in the train folder\n",
    "if os.path.exists(train_folder):\n",
    "    for file_name in os.listdir(train_folder):\n",
    "        if file_name.endswith('.pdf'):\n",
    "            print(f\"Processing {file_name}...\")\n",
    "            text = extract_text_with_backup(file_name,train_folder,backup_folder)\n",
    "            target = extract_target_from_filename(file_name)\n",
    "            data.append({'file_name': file_name, 'text': text, 'target': target})\n",
    "else:\n",
    "    print(f\"The folder '{train_folder}' does not exist.\")"
   ]
  },
  {
   "cell_type": "code",
   "execution_count": 20,
   "metadata": {},
   "outputs": [
    {
     "data": {
      "text/plain": [
       "317"
      ]
     },
     "execution_count": 20,
     "metadata": {},
     "output_type": "execute_result"
    }
   ],
   "source": [
    "len(data)"
   ]
  },
  {
   "cell_type": "code",
   "execution_count": 21,
   "metadata": {},
   "outputs": [],
   "source": [
    "df = pd.DataFrame(data)\n",
    "df_cleaned = df.dropna(subset=['text'])"
   ]
  },
  {
   "cell_type": "code",
   "execution_count": 22,
   "metadata": {},
   "outputs": [
    {
     "name": "stderr",
     "output_type": "stream",
     "text": [
      "C:\\Users\\rajbh\\AppData\\Local\\Temp\\ipykernel_29884\\1167517327.py:1: SettingWithCopyWarning: \n",
      "A value is trying to be set on a copy of a slice from a DataFrame.\n",
      "Try using .loc[row_indexer,col_indexer] = value instead\n",
      "\n",
      "See the caveats in the documentation: https://pandas.pydata.org/pandas-docs/stable/user_guide/indexing.html#returning-a-view-versus-a-copy\n",
      "  df_cleaned['cleaned_text'] = df_cleaned['text'].apply(preprocess_text)\n",
      "C:\\Users\\rajbh\\AppData\\Local\\Temp\\ipykernel_29884\\1167517327.py:2: SettingWithCopyWarning: \n",
      "A value is trying to be set on a copy of a slice from a DataFrame.\n",
      "Try using .loc[row_indexer,col_indexer] = value instead\n",
      "\n",
      "See the caveats in the documentation: https://pandas.pydata.org/pandas-docs/stable/user_guide/indexing.html#returning-a-view-versus-a-copy\n",
      "  df_cleaned['cleaned_text_length'] = df_cleaned['cleaned_text'].apply(len)\n",
      "C:\\Users\\rajbh\\AppData\\Local\\Temp\\ipykernel_29884\\1167517327.py:4: SettingWithCopyWarning: \n",
      "A value is trying to be set on a copy of a slice from a DataFrame.\n",
      "Try using .loc[row_indexer,col_indexer] = value instead\n",
      "\n",
      "See the caveats in the documentation: https://pandas.pydata.org/pandas-docs/stable/user_guide/indexing.html#returning-a-view-versus-a-copy\n",
      "  df_cleaned['truncated_text'] = df_cleaned['cleaned_text'].apply(truncate_text)\n"
     ]
    }
   ],
   "source": [
    "df_cleaned['cleaned_text'] = df_cleaned['text'].apply(preprocess_text)\n",
    "df_cleaned['cleaned_text_length'] = df_cleaned['cleaned_text'].apply(len)\n",
    "df_cleaned.to_csv('clean_data_preprocessed.csv')\n",
    "df_cleaned['truncated_text'] = df_cleaned['cleaned_text'].apply(lambda x: truncate_text(text=x,n=300))"
   ]
  },
  {
   "cell_type": "code",
   "execution_count": 7,
   "metadata": {},
   "outputs": [],
   "source": [
    "df_cleaned.to_csv('cleaned_truncated_data_test.csv')"
   ]
  },
  {
   "cell_type": "code",
   "execution_count": 12,
   "metadata": {},
   "outputs": [
    {
     "name": "stdout",
     "output_type": "stream",
     "text": [
      "\n",
      "SVM - Test Data Classification Report:\n",
      "              precision    recall  f1-score   support\n",
      "\n",
      "       cable       1.00      0.93      0.96        86\n",
      "       fuses       1.00      1.00      1.00        49\n",
      "    lighting       0.84      1.00      0.91        84\n",
      "      others       0.96      0.84      0.89        81\n",
      "\n",
      "    accuracy                           0.94       300\n",
      "   macro avg       0.95      0.94      0.94       300\n",
      "weighted avg       0.94      0.94      0.94       300\n",
      "\n"
     ]
    }
   ],
   "source": [
    "import joblib\n",
    "\n",
    "# Load the model and vectorizer\n",
    "model_path = './svm_model.joblib'\n",
    "tfidf_path = './tfidf_vectorizer.joblib'\n",
    "svm_model = joblib.load(model_path)\n",
    "tfidf_vectorizer = joblib.load(tfidf_path)\n",
    "\n",
    "X = df_cleaned['cleaned_text']\n",
    "y = df_cleaned['target']\n",
    "\n",
    "X_test_tfidf = tfidf_vectorizer.transform(X)\n",
    "\n",
    "y_test_pred_svm = svm_model.predict(X_test_tfidf)\n",
    "\n",
    "print(\"\\nSVM - Test Data Classification Report:\")\n",
    "print(classification_report(y, y_test_pred_svm))"
   ]
  },
  {
   "cell_type": "code",
   "execution_count": 17,
   "metadata": {},
   "outputs": [],
   "source": [
    "# Inference\n",
    "url  = 'https://catalog.belden.com/techdata/EN/1505A_techdata.pdf'\n",
    "file_name = 'inference_doc.pdf'\n",
    "save_dir = './downloaded_inference_pdf'\n",
    "back_up = './backup_pdf'\n",
    "def inference(url,file_name,save_dir,back_up):\n",
    "    os.makedirs(save_dir, exist_ok=True)\n",
    "    os.makedirs(back_up, exist_ok=True)\n",
    "    pdf_path = download_pdf_requests(url, save_dir, file_name)\n",
    "    if pdf_path:\n",
    "        text =  extract_text_with_backup(file_name,save_dir,back_up)\n",
    "        text = preprocess_text(text)\n",
    "        text = truncate_text(text,n=300)\n",
    "\n",
    "        model_path = './svm_model.joblib'\n",
    "        tfidf_path = './tfidf_vectorizer.joblib'\n",
    "        svm_model = joblib.load(model_path)\n",
    "        tfidf_vectorizer = joblib.load(tfidf_path)\n",
    "        X_test_tfidf = tfidf_vectorizer.transform([text])\n",
    "        y_test_pred_svm = svm_model.predict(X_test_tfidf)\n",
    "        return y_test_pred_svm[0]\n",
    "    else:\n",
    "        return None \n",
    "    "
   ]
  },
  {
   "cell_type": "code",
   "execution_count": 18,
   "metadata": {},
   "outputs": [
    {
     "name": "stderr",
     "output_type": "stream",
     "text": [
      "2024-11-23 11:55:15.936 WARNING streamlit.runtime.scriptrunner_utils.script_run_context: Thread 'MainThread': missing ScriptRunContext! This warning can be ignored when running in bare mode.\n",
      "2024-11-23 11:55:16.166 \n",
      "  \u001b[33m\u001b[1mWarning:\u001b[0m to view this Streamlit app on a browser, run it with the following\n",
      "  command:\n",
      "\n",
      "    streamlit run c:\\Learning\\Parsec\\doc_env\\Lib\\site-packages\\ipykernel_launcher.py [ARGUMENTS]\n",
      "2024-11-23 11:55:16.167 Thread 'MainThread': missing ScriptRunContext! This warning can be ignored when running in bare mode.\n",
      "2024-11-23 11:55:16.168 Thread 'MainThread': missing ScriptRunContext! This warning can be ignored when running in bare mode.\n",
      "2024-11-23 11:55:16.168 Thread 'MainThread': missing ScriptRunContext! This warning can be ignored when running in bare mode.\n",
      "2024-11-23 11:55:16.169 Thread 'MainThread': missing ScriptRunContext! This warning can be ignored when running in bare mode.\n",
      "2024-11-23 11:55:16.169 Thread 'MainThread': missing ScriptRunContext! This warning can be ignored when running in bare mode.\n",
      "2024-11-23 11:55:16.170 Thread 'MainThread': missing ScriptRunContext! This warning can be ignored when running in bare mode.\n",
      "2024-11-23 11:55:16.170 Thread 'MainThread': missing ScriptRunContext! This warning can be ignored when running in bare mode.\n",
      "2024-11-23 11:55:16.170 Thread 'MainThread': missing ScriptRunContext! This warning can be ignored when running in bare mode.\n",
      "2024-11-23 11:55:16.170 Thread 'MainThread': missing ScriptRunContext! This warning can be ignored when running in bare mode.\n",
      "2024-11-23 11:55:16.171 Session state does not function when running a script without `streamlit run`\n",
      "2024-11-23 11:55:16.171 Thread 'MainThread': missing ScriptRunContext! This warning can be ignored when running in bare mode.\n",
      "2024-11-23 11:55:16.172 Thread 'MainThread': missing ScriptRunContext! This warning can be ignored when running in bare mode.\n",
      "2024-11-23 11:55:16.172 Thread 'MainThread': missing ScriptRunContext! This warning can be ignored when running in bare mode.\n",
      "2024-11-23 11:55:16.173 Thread 'MainThread': missing ScriptRunContext! This warning can be ignored when running in bare mode.\n",
      "2024-11-23 11:55:16.173 Thread 'MainThread': missing ScriptRunContext! This warning can be ignored when running in bare mode.\n",
      "2024-11-23 11:55:16.173 Thread 'MainThread': missing ScriptRunContext! This warning can be ignored when running in bare mode.\n",
      "2024-11-23 11:55:16.174 Thread 'MainThread': missing ScriptRunContext! This warning can be ignored when running in bare mode.\n"
     ]
    }
   ],
   "source": [
    "import streamlit as st\n",
    "st.title(\"Classification the pdf\")\n",
    "\n",
    "st.write(\"Provide a URL to a PDF file, and app will classify it.\")\n",
    "\n",
    "url = st.text_input(\"Enter the URL of the PDF:\")\n",
    "file_name = 'inference_doc.pdf'\n",
    "save_dir = './downloaded_inference_pdf'\n",
    "back_up = './backup_pdf'\n",
    "if st.button(\"Extract Text\"):\n",
    "    result =  inference(url,file_name,save_dir,back_up)\n",
    "    if result == None:\n",
    "        st.error(\"Please provide a valid PDF URL.\")\n",
    "    st.text_area(\"Predicted Class\", result, height =300 )\n"
   ]
  }
 ],
 "metadata": {
  "kernelspec": {
   "display_name": "doc_env",
   "language": "python",
   "name": "python3"
  },
  "language_info": {
   "codemirror_mode": {
    "name": "ipython",
    "version": 3
   },
   "file_extension": ".py",
   "mimetype": "text/x-python",
   "name": "python",
   "nbconvert_exporter": "python",
   "pygments_lexer": "ipython3",
   "version": "3.11.9"
  }
 },
 "nbformat": 4,
 "nbformat_minor": 2
}
